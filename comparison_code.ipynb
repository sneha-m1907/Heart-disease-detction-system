{
  "cells": [
    {
      "cell_type": "markdown",
      "metadata": {
        "id": "view-in-github",
        "colab_type": "text"
      },
      "source": [
        "<a href=\"https://colab.research.google.com/github/sneha-m1907/Heart-disease-detction-system/blob/main/comparison_code.ipynb\" target=\"_parent\"><img src=\"https://colab.research.google.com/assets/colab-badge.svg\" alt=\"Open In Colab\"/></a>"
      ]
    },
    {
      "cell_type": "code",
      "execution_count": null,
      "metadata": {
        "colab": {
          "base_uri": "https://localhost:8080/"
        },
        "id": "5EMWoJqDlasc",
        "outputId": "41827b9b-117b-45b0-ba24-75b74fc67724"
      },
      "outputs": [
        {
          "output_type": "stream",
          "name": "stdout",
          "text": [
            "['.config', 'Heart_Disease_Prediction.csv', 'sample_data']\n"
          ]
        }
      ],
      "source": [
        "import numpy as np\n",
        "import pandas as pd\n",
        "import matplotlib.pyplot as plt\n",
        "import seaborn as sns\n",
        "from sklearn.metrics import classification_report\n",
        "from sklearn.metrics import accuracy_score\n",
        "%matplotlib inline\n",
        "\n",
        "import os\n",
        "print(os.listdir())\n",
        "\n",
        "import warnings\n",
        "warnings.filterwarnings('ignore')"
      ]
    },
    {
      "cell_type": "code",
      "execution_count": null,
      "metadata": {
        "id": "LXwqm03jlgsf"
      },
      "outputs": [],
      "source": [
        "# 1.Begin by loading and preprocessing the dataset. You can use libraries like Pandas and NumPy for this purpose.                                           import pandas as pd\n",
        "import numpy as np\n",
        "from sklearn.model_selection import train_test_split\n",
        "from sklearn.preprocessing import StandardScaler, LabelEncoder\n",
        "import pandas as pd\n",
        "\n",
        "\n",
        "# Load the Heart Disease dataset\n",
        "data = pd.read_csv('Heart_Disease_Prediction.csv')\n",
        "label_encoder = LabelEncoder()\n",
        "data['Heart Disease'] = label_encoder.fit_transform(data['Heart Disease'])\n",
        "\n",
        "# Split the data into features (X) and labels (y)\n",
        "X = data.drop('Heart Disease', axis=1)\n",
        "y = data['Heart Disease']\n",
        "\n",
        "\n",
        "# Normalize the features\n",
        "scaler = StandardScaler()\n",
        "X = scaler.fit_transform(X)\n",
        "\n",
        "# Split the data into training and testing sets\n",
        "X_train, X_test, y_train, y_test = train_test_split(X, y, test_size=0.2, random_state=42)\n"
      ]
    },
    {
      "cell_type": "markdown",
      "metadata": {
        "id": "t9nS4vMJmpMV"
      },
      "source": [
        "SVM"
      ]
    },
    {
      "cell_type": "code",
      "execution_count": null,
      "metadata": {
        "colab": {
          "base_uri": "https://localhost:8080/"
        },
        "id": "fPZsDmgfmvj6",
        "outputId": "972f5c69-0b38-40f2-c885-05222a4ee31e"
      },
      "outputs": [
        {
          "output_type": "stream",
          "name": "stdout",
          "text": [
            "The accuracy score achieved using Linear SVM is: 88.89 %\n",
            "              precision    recall  f1-score   support\n",
            "\n",
            "           0       0.89      0.94      0.91        33\n",
            "           1       0.89      0.81      0.85        21\n",
            "\n",
            "    accuracy                           0.89        54\n",
            "   macro avg       0.89      0.87      0.88        54\n",
            "weighted avg       0.89      0.89      0.89        54\n",
            "\n"
          ]
        }
      ],
      "source": [
        "from sklearn import svm\n",
        "\n",
        "sv = svm.SVC(kernel='linear')\n",
        "\n",
        "sv.fit(X_train, y_train)\n",
        "\n",
        "Y_pred_svm = sv.predict(X_test)\n",
        "score_svm = round(accuracy_score(Y_pred_svm,y_test)*100,2)\n",
        "\n",
        "print(\"The accuracy score achieved using Linear SVM is: \"+str(score_svm)+\" %\")\n",
        "report = classification_report(y_test, Y_pred_svm)\n",
        "print(report)"
      ]
    },
    {
      "cell_type": "markdown",
      "metadata": {
        "id": "fcXERNtknHkk"
      },
      "source": [
        "K Nearest Neighbors"
      ]
    },
    {
      "cell_type": "code",
      "execution_count": null,
      "metadata": {
        "colab": {
          "base_uri": "https://localhost:8080/"
        },
        "id": "cX97D7X_nKQE",
        "outputId": "98db3ba2-8444-4fe5-d6a8-263145d4d581"
      },
      "outputs": [
        {
          "output_type": "stream",
          "name": "stdout",
          "text": [
            "The accuracy score achieved using KNN is: 81.48 %\n",
            "              precision    recall  f1-score   support\n",
            "\n",
            "           0       0.81      0.91      0.86        33\n",
            "           1       0.82      0.67      0.74        21\n",
            "\n",
            "    accuracy                           0.81        54\n",
            "   macro avg       0.82      0.79      0.80        54\n",
            "weighted avg       0.82      0.81      0.81        54\n",
            "\n"
          ]
        }
      ],
      "source": [
        "from sklearn.neighbors import KNeighborsClassifier\n",
        "\n",
        "knn = KNeighborsClassifier(n_neighbors=5)\n",
        "knn.fit(X_train,y_train)\n",
        "Y_pred_knn=knn.predict(X_test)\n",
        "score_knn = round(accuracy_score(Y_pred_knn,y_test)*100,2)\n",
        "\n",
        "print(\"The accuracy score achieved using KNN is: \"+str(score_knn)+\" %\")\n",
        "report = classification_report(y_test, Y_pred_knn)\n",
        "print(report)"
      ]
    },
    {
      "cell_type": "markdown",
      "metadata": {
        "id": "qi_ltG3LngAq"
      },
      "source": [
        "Decision Tree"
      ]
    },
    {
      "cell_type": "code",
      "execution_count": null,
      "metadata": {
        "colab": {
          "base_uri": "https://localhost:8080/"
        },
        "id": "VqHsbafunjlt",
        "outputId": "999f15e9-a110-4d64-bfa9-12b2e3b05a1b"
      },
      "outputs": [
        {
          "output_type": "stream",
          "name": "stdout",
          "text": [
            "The accuracy score achieved using Decision Tree is: 75.93 %\n",
            "              precision    recall  f1-score   support\n",
            "\n",
            "           0       0.83      0.76      0.79        33\n",
            "           1       0.67      0.76      0.71        21\n",
            "\n",
            "    accuracy                           0.76        54\n",
            "   macro avg       0.75      0.76      0.75        54\n",
            "weighted avg       0.77      0.76      0.76        54\n",
            "\n"
          ]
        }
      ],
      "source": [
        "from sklearn.tree import DecisionTreeClassifier\n",
        "\n",
        "max_accuracy = 0\n",
        "\n",
        "\n",
        "for x in range(200):\n",
        "    dt = DecisionTreeClassifier(random_state=x)\n",
        "    dt.fit(X_train,y_train)\n",
        "    Y_pred_dt = dt.predict(X_test)\n",
        "    current_accuracy = round(accuracy_score(Y_pred_dt,y_test)*100,2)\n",
        "    if(current_accuracy>max_accuracy):\n",
        "        max_accuracy = current_accuracy\n",
        "        best_x = x\n",
        "\n",
        "#print(max_accuracy)\n",
        "#print(best_x)\n",
        "\n",
        "\n",
        "dt = DecisionTreeClassifier(random_state=best_x)\n",
        "dt.fit(X_train,y_train)\n",
        "Y_pred_dt = dt.predict(X_test)\n",
        "score_dt = round(accuracy_score(Y_pred_dt,y_test)*100,2)\n",
        "\n",
        "print(\"The accuracy score achieved using Decision Tree is: \"+str(score_dt)+\" %\")\n",
        "report = classification_report(y_test, Y_pred_dt)\n",
        "print(report)"
      ]
    },
    {
      "cell_type": "markdown",
      "metadata": {
        "id": "UwR703zloQYe"
      },
      "source": [
        "XGBoost"
      ]
    },
    {
      "cell_type": "code",
      "execution_count": null,
      "metadata": {
        "colab": {
          "base_uri": "https://localhost:8080/"
        },
        "id": "SM9XBhyToTPx",
        "outputId": "970b9871-ce30-4db3-e64a-89033566706e"
      },
      "outputs": [
        {
          "output_type": "stream",
          "name": "stdout",
          "text": [
            "The accuracy score achieved using XGBoost is: 81.48 %\n",
            "              precision    recall  f1-score   support\n",
            "\n",
            "           0       0.83      0.88      0.85        33\n",
            "           1       0.79      0.71      0.75        21\n",
            "\n",
            "    accuracy                           0.81        54\n",
            "   macro avg       0.81      0.80      0.80        54\n",
            "weighted avg       0.81      0.81      0.81        54\n",
            "\n"
          ]
        }
      ],
      "source": [
        "import xgboost as xgb\n",
        "\n",
        "xgb_model = xgb.XGBClassifier(objective=\"binary:logistic\", random_state=42)\n",
        "xgb_model.fit(X_train, y_train)\n",
        "\n",
        "Y_pred_xgb = xgb_model.predict(X_test)\n",
        "\n",
        "score_xgb = round(accuracy_score(Y_pred_xgb,y_test)*100,2)\n",
        "\n",
        "print(\"The accuracy score achieved using XGBoost is: \"+str(score_xgb)+\" %\")\n",
        "report = classification_report(y_test, Y_pred_xgb)\n",
        "print(report)"
      ]
    },
    {
      "cell_type": "markdown",
      "metadata": {
        "id": "34lpeU34odWb"
      },
      "source": [
        "Neural Network"
      ]
    },
    {
      "cell_type": "code",
      "execution_count": null,
      "metadata": {
        "colab": {
          "base_uri": "https://localhost:8080/"
        },
        "id": "LEbIuLFYogwi",
        "outputId": "c6bbba6c-1ffb-4346-f3ee-b5f91e2144ed"
      },
      "outputs": [
        {
          "output_type": "stream",
          "name": "stdout",
          "text": [
            "Epoch 1/20\n",
            "7/7 [==============================] - 1s 3ms/step - loss: 0.7353 - accuracy: 0.6204\n",
            "Epoch 2/20\n",
            "7/7 [==============================] - 0s 3ms/step - loss: 0.7042 - accuracy: 0.6389\n",
            "Epoch 3/20\n",
            "7/7 [==============================] - 0s 3ms/step - loss: 0.6773 - accuracy: 0.6528\n",
            "Epoch 4/20\n",
            "7/7 [==============================] - 0s 3ms/step - loss: 0.6509 - accuracy: 0.6759\n",
            "Epoch 5/20\n",
            "7/7 [==============================] - 0s 4ms/step - loss: 0.6298 - accuracy: 0.6898\n",
            "Epoch 6/20\n",
            "7/7 [==============================] - 0s 3ms/step - loss: 0.6099 - accuracy: 0.6944\n",
            "Epoch 7/20\n",
            "7/7 [==============================] - 0s 3ms/step - loss: 0.5922 - accuracy: 0.6991\n",
            "Epoch 8/20\n",
            "7/7 [==============================] - 0s 3ms/step - loss: 0.5752 - accuracy: 0.7083\n",
            "Epoch 9/20\n",
            "7/7 [==============================] - 0s 3ms/step - loss: 0.5610 - accuracy: 0.7176\n",
            "Epoch 10/20\n",
            "7/7 [==============================] - 0s 3ms/step - loss: 0.5470 - accuracy: 0.7222\n",
            "Epoch 11/20\n",
            "7/7 [==============================] - 0s 3ms/step - loss: 0.5343 - accuracy: 0.7222\n",
            "Epoch 12/20\n",
            "7/7 [==============================] - 0s 3ms/step - loss: 0.5223 - accuracy: 0.7269\n",
            "Epoch 13/20\n",
            "7/7 [==============================] - 0s 3ms/step - loss: 0.5112 - accuracy: 0.7407\n",
            "Epoch 14/20\n",
            "7/7 [==============================] - 0s 3ms/step - loss: 0.5010 - accuracy: 0.7500\n",
            "Epoch 15/20\n",
            "7/7 [==============================] - 0s 3ms/step - loss: 0.4911 - accuracy: 0.7639\n",
            "Epoch 16/20\n",
            "7/7 [==============================] - 0s 3ms/step - loss: 0.4816 - accuracy: 0.7685\n",
            "Epoch 17/20\n",
            "7/7 [==============================] - 0s 4ms/step - loss: 0.4733 - accuracy: 0.7685\n",
            "Epoch 18/20\n",
            "7/7 [==============================] - 0s 4ms/step - loss: 0.4649 - accuracy: 0.7731\n",
            "Epoch 19/20\n",
            "7/7 [==============================] - 0s 3ms/step - loss: 0.4571 - accuracy: 0.7824\n",
            "Epoch 20/20\n",
            "7/7 [==============================] - 0s 3ms/step - loss: 0.4503 - accuracy: 0.7824\n",
            "2/2 [==============================] - 0s 5ms/step\n",
            "The accuracy score achieved using Neural Network is: 74.07 %\n",
            "              precision    recall  f1-score   support\n",
            "\n",
            "           0       0.76      0.85      0.80        33\n",
            "           1       0.71      0.57      0.63        21\n",
            "\n",
            "    accuracy                           0.74        54\n",
            "   macro avg       0.73      0.71      0.72        54\n",
            "weighted avg       0.74      0.74      0.73        54\n",
            "\n"
          ]
        }
      ],
      "source": [
        "from keras.models import Sequential\n",
        "from keras.layers import Dense\n",
        "\n",
        "model = Sequential()\n",
        "model.add(Dense(10,activation='relu',input_dim=13))\n",
        "model.add(Dense(1,activation='sigmoid'))\n",
        "\n",
        "model.compile(loss='binary_crossentropy',optimizer='adam',metrics=['accuracy'])\n",
        "model.fit(X_train,y_train,epochs=20)\n",
        "Y_pred_nn = model.predict(X_test)\n",
        "\n",
        "rounded = [round(x[0]) for x in Y_pred_nn]\n",
        "\n",
        "Y_pred_nn = rounded\n",
        "report = classification_report(y_test, Y_pred_nn)\n",
        "score_nn = round(accuracy_score(Y_pred_nn,y_test)*100,2)\n",
        "\n",
        "print(\"The accuracy score achieved using Neural Network is: \"+str(score_nn)+\" %\")\n",
        "print(report)"
      ]
    },
    {
      "cell_type": "markdown",
      "source": [
        "Federated Learning"
      ],
      "metadata": {
        "id": "pgHR1DPjTp5t"
      }
    },
    {
      "cell_type": "code",
      "source": [
        "import tensorflow as tf\n",
        "import numpy as np\n",
        "import matplotlib.pyplot as plt\n",
        "from tensorflow.keras.layers import Dense, Flatten\n",
        "from tensorflow.keras.models import Sequential\n",
        "from sklearn.metrics import classification_report\n",
        "from tensorflow.keras.layers import Dense, Flatten\n",
        "from tensorflow.keras.models import Sequential\n",
        "\n",
        "def create_model(input_shape=(13,)):  # Adjust the default input shape\n",
        "    model = Sequential()\n",
        "    model.add(Flatten(input_shape=input_shape))  # Use the provided input shape\n",
        "    model.add(Dense(128, activation='relu'))\n",
        "    model.add(Dense(10, activation='softmax'))\n",
        "    return model\n",
        "# Assuming that 'client_models' is a list of models trained by clients\n",
        "client_models = [create_model() for _ in range(10)]\n",
        "\n",
        "\n",
        "def aggregate_models(models):\n",
        "    total_layers = len(models[0].layers)\n",
        "    weights = [[] for _ in range(total_layers)]\n",
        "\n",
        "    for model in models:\n",
        "        for i, layer in enumerate(model.layers):\n",
        "            layer_weights = layer.get_weights()\n",
        "\n",
        "            for j, weight_array in enumerate(layer_weights):\n",
        "                if len(weights[i]) <= j:\n",
        "                    weights[i].append([])\n",
        "                weights[i][j].append(weight_array)\n",
        "\n",
        "    average_weights = [\n",
        "        [np.mean(np.array(weight_list), axis=0) for weight_list in layer_weights]\n",
        "        for layer_weights in weights\n",
        "    ]\n",
        "\n",
        "    for i, (layer, layer_weights) in enumerate(zip(models[0].layers, average_weights)):\n",
        "        layer.set_weights(layer_weights)\n",
        "\n",
        "    return models[0]\n",
        "# # Assuming that 'clients_models' is a list of models trained by clients\n",
        "global_model = aggregate_models(client_models)\n",
        "def hawk_optimization(current_weights, global_weights, learning_rate, alpha=0.5, beta=0.5):\n",
        "    # \"\"\"\n",
        "    # Hawk-inspired optimization function.\n",
        "\n",
        "    # Parameters:\n",
        "    # - current_weights: Current weights of the layer in the model.\n",
        "    # - global_weights: Global weights for aggregation.\n",
        "    # - learning_rate: Learning rate for weight updates.\n",
        "    # - alpha: Hawk-inspired parameter (customize based on problem).\n",
        "    # - beta: Hawk-inspired parameter (customize based on problem).\n",
        "\n",
        "    # Returns:\n",
        "    # - updated_weights: Updated weights after Hawk-inspired optimization.\n",
        "    # \"\"\"\n",
        "    epsilon = np.random.rand(*current_weights.shape)  # Random noise for exploration\n",
        "    exploration_term = alpha * epsilon * (current_weights - global_weights)\n",
        "    exploitation_term = beta * (current_weights - global_weights)\n",
        "\n",
        "    # Hawk-inspired optimization update rule\n",
        "    updated_weights = current_weights - learning_rate * (exploration_term + exploitation_term)\n",
        "\n",
        "    return updated_weights\n",
        "def train_model_with_hawk_optimization(model, X, y, global_model, epochs=5, batch_size=32, learning_rate=0.01):\n",
        "    model.compile(optimizer='adam', loss='sparse_categorical_crossentropy', metrics=['accuracy'])\n",
        "\n",
        "    training_accuracies = []  # To store training accuracies for each epoch\n",
        "\n",
        "    for epoch in range(epochs):\n",
        "        for layer_index, (layer, global_layer) in enumerate(zip(model.layers, global_model.layers)):\n",
        "            current_weights = layer.get_weights()\n",
        "            global_weights = global_layer.get_weights()\n",
        "\n",
        "            # Apply Hawk-inspired optimization to update the layer weights\n",
        "            updated_weights = []\n",
        "\n",
        "            for cw, gw in zip(current_weights, global_weights):\n",
        "                if cw is not None and gw is not None:\n",
        "                    updated_weight = hawk_optimization(cw, gw, learning_rate)\n",
        "                    updated_weights.append(updated_weight)\n",
        "                else:\n",
        "                    updated_weights.append(None)\n",
        "\n",
        "            # Set the updated weights to the layer\n",
        "            layer.set_weights(updated_weights)\n",
        "\n",
        "        # Fit the model with the updated weights\n",
        "        history = model.fit(X, y, epochs=1, batch_size=batch_size, verbose=0)\n",
        "\n",
        "        # Track training accuracy for each epoch\n",
        "        training_accuracies.append(history.history['accuracy'][0])\n",
        "\n",
        "    return training_accuracies\n",
        "def evaluate_model(model, X, y):\n",
        "    loss, accuracy = model.evaluate(X, y)\n",
        "    return loss, accuracy\n",
        "# Train models using Hawk-inspired optimization\n",
        "training_accuracies = []\n",
        "for model in client_models:\n",
        "    acc = train_model_with_hawk_optimization(model, X_train, y_train, global_model)\n",
        "    training_accuracies.append(acc)\n",
        "\n",
        "\n",
        "# Evaluate the federated learning model\n",
        "loss, accuracy = evaluate_model(global_model, X_test, y_test)\n",
        "accuracy_fl=round(accuracy*100,2)\n",
        "print(f\"Test accuracy: {accuracy_fl }%\")\n",
        "report = classification_report(y_test, Y_pred_xgb)\n",
        "print(report)\n",
        "\n"
      ],
      "metadata": {
        "colab": {
          "base_uri": "https://localhost:8080/"
        },
        "id": "C63O1pl0iKYJ",
        "outputId": "f32a328d-f0be-45dd-d911-3b333b44bee5"
      },
      "execution_count": null,
      "outputs": [
        {
          "output_type": "stream",
          "name": "stdout",
          "text": [
            "2/2 [==============================] - 1s 15ms/step - loss: 1.4346 - accuracy: 0.8704\n",
            "Test accuracy: 87.04%\n",
            "              precision    recall  f1-score   support\n",
            "\n",
            "           0       0.83      0.88      0.85        33\n",
            "           1       0.79      0.71      0.75        21\n",
            "\n",
            "    accuracy                           0.81        54\n",
            "   macro avg       0.81      0.80      0.80        54\n",
            "weighted avg       0.81      0.81      0.81        54\n",
            "\n"
          ]
        }
      ]
    },
    {
      "cell_type": "code",
      "execution_count": null,
      "metadata": {
        "colab": {
          "base_uri": "https://localhost:8080/"
        },
        "id": "GwKaJGAerdqL",
        "outputId": "ce6e90ed-3812-4303-846d-ca9ec48022fa"
      },
      "outputs": [
        {
          "output_type": "stream",
          "name": "stdout",
          "text": [
            "The accuracy score achieved using Support Vector Machine is: 88.89 %\n",
            "The accuracy score achieved using K-Nearest Neighbors is: 81.48 %\n",
            "The accuracy score achieved using Decision Tree is: 75.93 %\n",
            "The accuracy score achieved using XGBoost is: 81.48 %\n",
            "The accuracy score achieved using Neural Network is: 74.07 %\n",
            "The accuracy score achieved using Federated Learning is: 87.04 %\n"
          ]
        }
      ],
      "source": [
        "scores = [score_svm,score_knn,score_dt,score_xgb,score_nn,accuracy_fl]\n",
        "algorithms = [\"Support Vector Machine\",\"K-Nearest Neighbors\",\"Decision Tree\",\"XGBoost\",\"Neural Network\",\"Federated Learning\"]\n",
        "\n",
        "for i in range(len(algorithms)):\n",
        "    print(\"The accuracy score achieved using \"+algorithms[i]+\" is: \"+str(scores[i])+\" %\")"
      ]
    },
    {
      "cell_type": "code",
      "execution_count": null,
      "metadata": {
        "colab": {
          "base_uri": "https://localhost:8080/",
          "height": 574
        },
        "id": "KmvgozWtrhrE",
        "outputId": "c8d5c765-0f0b-47ae-be92-06468b16c831"
      },
      "outputs": [
        {
          "output_type": "execute_result",
          "data": {
            "text/plain": [
              "<Axes: xlabel='Algorithms', ylabel='Accuracy score'>"
            ]
          },
          "metadata": {},
          "execution_count": 28
        },
        {
          "output_type": "display_data",
          "data": {
            "text/plain": [
              "<Figure size 1500x800 with 1 Axes>"
            ],
            "image/png": "[encoded data removed]"
          },
          "metadata": {}
        }
      ],
      "source": [
        "sns.set(rc={'figure.figsize':(15,8)})\n",
        "plt.xlabel(\"Algorithms\")\n",
        "plt.ylabel(\"Accuracy score\")\n",
        "\n",
        "sns.barplot(scores)\n"
      ]
    },
    {
      "cell_type": "code",
      "source": [
        "import matplotlib.pyplot as plt\n",
        "import numpy as np\n",
        "\n",
        "# Sample data (replace with your actual data)\n",
        "models = [\"Support Vector Machine\",\"K-Nearest Neighbors\",\"Decision Tree\",\"XGBoost\",\"Neural Network\",\"Federated Learning\"]\n",
        "accuracy =[score_svm,score_knn,score_dt,score_xgb,score_nn,accuracy_fl]\n",
        "precision = [81,82,77,81,82,81]\n",
        "recall = [81,81,76,81,74,81]\n",
        "f1_score = [81,81,76,81,74,81]\n",
        "\n",
        "# Plotting\n",
        "bar_width = 0.2\n",
        "index = np.arange(len(models))\n",
        "\n",
        "fig, ax = plt.subplots()\n",
        "\n",
        "bar1 = ax.bar(index, accuracy, bar_width, label='Accuracy')\n",
        "bar2 = ax.bar(index + bar_width, precision, bar_width, label='Precision')\n",
        "bar3 = ax.bar(index + 2 * bar_width, recall, bar_width, label='Recall')\n",
        "bar4 = ax.bar(index + 3 * bar_width, f1_score, bar_width, label='F1 Score')\n",
        "\n",
        "# Customize the plot\n",
        "ax.set_xlabel('Models')\n",
        "ax.set_ylabel('Scores (%)')\n",
        "ax.set_title('Comparison of Performance Metrics with Different Mechin Lerning Models')\n",
        "ax.set_xticks(index + 1.5 * bar_width)\n",
        "ax.set_xticklabels(models)\n",
        "ax.legend()\n",
        "\n",
        "# Show the plot\n",
        "plt.show()"
      ],
      "metadata": {
        "colab": {
          "base_uri": "https://localhost:8080/",
          "height": 575
        },
        "id": "CAh5x2VuUlZF",
        "outputId": "134b8f7a-f585-45cb-b24f-f2c8e0f7962b"
      },
      "execution_count": null,
      "outputs": [
        {
          "output_type": "display_data",
          "data": {
            "text/plain": [
              "<Figure size 1500x800 with 1 Axes>"
            ],
            "image/png": "[encoded data removed]"
          },
          "metadata": {}
        }
      ]
    },
    {
      "cell_type": "markdown",
      "metadata": {
        "id": "bB6M-Nopp5qv"
      },
      "source": []
    }
  ],
  "metadata": {
    "colab": {
      "provenance": [],
      "include_colab_link": true
    },
    "kernelspec": {
      "display_name": "Python 3",
      "name": "python3"
    }
  },
  "nbformat": 4,
  "nbformat_minor": 0
}